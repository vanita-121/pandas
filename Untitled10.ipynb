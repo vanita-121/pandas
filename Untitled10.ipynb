{
 "cells": [
  {
   "cell_type": "code",
   "execution_count": null,
   "id": "b9668a06-ae7c-4d08-b804-d02ea51a8813",
   "metadata": {},
   "outputs": [],
   "source": [
    "import pandas as pd\n",
    "from sklearn.feature_extraction.text import CountVectorizer\n",
    "from sklearn.preprocessing import LabelEncoder \n",
    "from sklearn .model_selection import train_test_split\n",
    "from sklearn.naive_bayes import MultinomialNB\n",
    "import matplotlib.pyplot as plt\n",
    "import seaborn as sns"
   ]
  },
  {
   "cell_type": "code",
   "execution_count": null,
   "id": "ca2926c7-55c2-46d1-8d75-bf85559851f3",
   "metadata": {},
   "outputs": [],
   "source": [
    "df=pd.read_csv(\"spam.csv\")\n",
    "df.info()\n",
    "df"
   ]
  },
  {
   "cell_type": "code",
   "execution_count": null,
   "id": "84964748-ab1f-406a-bdff-0d59ee295cc0",
   "metadata": {},
   "outputs": [],
   "source": [
    "le=LabelEncoder()\n",
    "df[\"Category\"]=le.fit_transform(df[\"Category\"])\n",
    "df"
   ]
  },
  {
   "cell_type": "code",
   "execution_count": null,
   "id": "1e50bdfc-c8a5-433c-a70a-dd4e52499d2f",
   "metadata": {},
   "outputs": [],
   "source": [
    "# x=df.iloc[:,0]\n",
    "# x\n",
    "y=df.iloc[:,-1]\n",
    "y"
   ]
  },
  {
   "cell_type": "code",
   "execution_count": null,
   "id": "7b5f535f-f6ce-4014-b398-ed373b5d5524",
   "metadata": {},
   "outputs": [],
   "source": [
    "v=CountVectorizer()\n",
    "x_v=v.fit_transform(df[\"Message\"])\n",
    "print(x_v)"
   ]
  },
  {
   "cell_type": "code",
   "execution_count": null,
   "id": "de0f12b1-c73d-42ae-86b2-fdb7ddb6dcd3",
   "metadata": {},
   "outputs": [],
   "source": [
    "x_train, x_test, y_train, y_test = train_test_split(x_v, y, test_size=0.2, random_state=43)\n"
   ]
  },
  {
   "cell_type": "code",
   "execution_count": null,
   "id": "b8767629-96da-425e-8cfc-d5528ed04847",
   "metadata": {},
   "outputs": [],
   "source": [
    "model=MultinomialNB()"
   ]
  },
  {
   "cell_type": "code",
   "execution_count": null,
   "id": "35587ef4-cee6-4f80-82c0-eeca6c29d16c",
   "metadata": {},
   "outputs": [],
   "source": [
    "model.fit(x_train,y_train)"
   ]
  },
  {
   "cell_type": "code",
   "execution_count": null,
   "id": "edad81ad-f603-436c-b174-0a75dde7b1ff",
   "metadata": {},
   "outputs": [],
   "source": [
    "model.predict(x_test)"
   ]
  }
 ],
 "metadata": {
  "kernelspec": {
   "display_name": "Python 3 (ipykernel)",
   "language": "python",
   "name": "python3"
  },
  "language_info": {
   "codemirror_mode": {
    "name": "ipython",
    "version": 3
   },
   "file_extension": ".py",
   "mimetype": "text/x-python",
   "name": "python",
   "nbconvert_exporter": "python",
   "pygments_lexer": "ipython3",
   "version": "3.12.4"
  }
 },
 "nbformat": 4,
 "nbformat_minor": 5
}
